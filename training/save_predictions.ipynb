{
 "cells": [
  {
   "cell_type": "code",
   "execution_count": 4,
   "id": "dec328fe-3254-44bd-ba2f-b2cafc446920",
   "metadata": {},
   "outputs": [],
   "source": [
    "#$ Imports\n",
    "import os\n",
    "import shutil\n",
    "import sys\n",
    "import json\n",
    "from datetime import datetime\n",
    "\n",
    "import numpy as np\n",
    "from scipy import stats\n",
    "import xarray as xr\n",
    "import cftime\n",
    "from tqdm import tqdm\n",
    "\n",
    "import matplotlib as mpl\n",
    "import matplotlib.pyplot as plt\n",
    "import cartopy\n",
    "import cartopy.crs as ccrs\n",
    "import cmocean as cmo\n",
    "\n",
    "import torch\n",
    "import utils\n",
    "from utils import helpers\n",
    "\n",
    "#$ Global variables\n",
    "with open(\"~/s2s/paths.json\") as paths_json:\n",
    "    PATHS = json.load(paths_json)\n",
    "with open(\"~/s2s/globals.json\") as globals_json:\n",
    "    GLOBALS = json.load(globals_json)\n",
    "DEVICE = 'cuda' if torch.cuda.is_available() else 'cpu'\n",
    "if DEVICE == 'cuda':\n",
    "    print(f\"Using cuda device {torch.cuda.get_device_name(0)}\")"
   ]
  },
  {
   "cell_type": "code",
   "execution_count": 5,
   "id": "503b5f8d-0d2a-4e31-86d0-1407ec502a92",
   "metadata": {},
   "outputs": [],
   "source": [
    "def save_all_the_data(tau, output_path = PATHS['s2s_predictions']):\n",
    "    data_path = os.path.join(PATHS['full_globe'], 'data', f'tau_{tau}')\n",
    "    prediction_path = os.path.join(PATHS['full_globe'], 'predictions',  f'tau_{tau}')\n",
    "    output_path = os.path.join(output_path, f'tau_{tau}')\n",
    "    os.makedirs(output_path, exist_ok=True)\n",
    "\n",
    "    # Standardizer\n",
    "    X_scaler = utils.processing.load_standardizer(data_path, 'X')\n",
    "    utils.processing.save_standardizer(X_scaler, output_path, 'X_standardizer')\n",
    "    y_scaler = utils.processing.load_standardizer(data_path, 'y')\n",
    "    y_scaler = y_scaler.isel(lat=slice(0,None,2), lon=slice(0,None,2))\n",
    "    utils.processing.save_standardizer(y_scaler, output_path, 'y_standardizer')\n",
    "\n",
    "    # Gotta do this stupid thing with the residual scaler since it's dependent on each individual standardizer\n",
    "    y_scaler_flattened = y_scaler.stack(s=('lat', 'lon')).dropna(dim='s')\n",
    "    s = y_scaler_flattened['s']\n",
    "    residual_scaler = xr.zeros_like(y_scaler_flattened)\n",
    "    for i in tqdm(range(len(s))):\n",
    "        network_path = os.path.join(PATHS['full_globe'], 'networks', f'tau_{tau}', f'loc_{i}')\n",
    "        point_scaler = np.load(os.path.join(network_path, 'residual_standardizer.npy'), allow_pickle=True).item()\n",
    "        residual_scaler['mean'][i] = point_scaler['mean']\n",
    "        residual_scaler['std'][i] = point_scaler['std']\n",
    "    residual_scaler = residual_scaler.unstack()\n",
    "    utils.processing.save_standardizer(residual_scaler, output_path, 'residual_standardizer')\n",
    "\n",
    "    for file in ['target', 'pred_mean', 'pred_logvar', 'dp_pred']:\n",
    "        sourcefile = os.path.join(prediction_path, f'{file}.nc')\n",
    "        shutil.copy(sourcefile, output_path)\n",
    "\n",
    "    # X_test\n",
    "    shutil.copy(os.path.join(data_path, 'X_test.nc'), output_path)\n",
    "\n",
    "    # X_dp\n",
    "    times = xr.open_dataarray(os.path.join(prediction_path, 'target.nc'))['time']\n",
    "\n",
    "    da = xr.open_dataarray(os.path.join(data_path, f'X_dp_test.nc'))\n",
    "    da = xr.DataArray(\n",
    "        da.data, coords={\n",
    "            'time': da['time'].values,\n",
    "            'lat': da['lat'],\n",
    "            'lon': da['lon']\n",
    "        }\n",
    "    )\n",
    "    da.to_netcdf(os.path.join(output_path, f'X_dp_test.nc'))"
   ]
  },
  {
   "cell_type": "code",
   "execution_count": 7,
   "id": "0fefd4a1-202a-43ea-90a3-f663a7c58660",
   "metadata": {},
   "outputs": [
    {
     "name": "stderr",
     "output_type": "stream",
     "text": [
      "100%|██████████| 6590/6590 [01:03<00:00, 104.50it/s]\n"
     ]
    },
    {
     "name": "stdout",
     "output_type": "stream",
     "text": [
      "CPU times: user 6.27 s, sys: 1min 40s, total: 1min 46s\n",
      "Wall time: 2min 52s\n"
     ]
    }
   ],
   "source": [
    "%%time\n",
    "save_all_the_data(tau=10)"
   ]
  },
  {
   "cell_type": "code",
   "execution_count": 6,
   "id": "acd3edd3-1377-4060-91eb-acded47e0ce4",
   "metadata": {},
   "outputs": [
    {
     "name": "stderr",
     "output_type": "stream",
     "text": [
      "100%|██████████| 6590/6590 [01:00<00:00, 108.54it/s]\n"
     ]
    },
    {
     "name": "stdout",
     "output_type": "stream",
     "text": [
      "CPU times: user 6.43 s, sys: 1min 27s, total: 1min 34s\n",
      "Wall time: 2min 37s\n"
     ]
    }
   ],
   "source": [
    "%%time\n",
    "save_all_the_data(tau=20)"
   ]
  },
  {
   "cell_type": "code",
   "execution_count": 8,
   "id": "3c3916b1-9257-49eb-a852-f07e6f683141",
   "metadata": {},
   "outputs": [
    {
     "name": "stderr",
     "output_type": "stream",
     "text": [
      "100%|██████████| 6590/6590 [01:02<00:00, 104.65it/s]\n"
     ]
    },
    {
     "name": "stdout",
     "output_type": "stream",
     "text": [
      "CPU times: user 6.19 s, sys: 1min 5s, total: 1min 11s\n",
      "Wall time: 2min 12s\n"
     ]
    }
   ],
   "source": [
    "%%time\n",
    "save_all_the_data(tau=60)"
   ]
  },
  {
   "cell_type": "code",
   "execution_count": 9,
   "id": "044808d9-5bd8-479d-a4c5-022a9e3f9616",
   "metadata": {},
   "outputs": [
    {
     "name": "stderr",
     "output_type": "stream",
     "text": [
      "100%|██████████| 6590/6590 [00:58<00:00, 112.50it/s]\n"
     ]
    },
    {
     "name": "stdout",
     "output_type": "stream",
     "text": [
      "CPU times: user 6.55 s, sys: 19.3 s, total: 25.8 s\n",
      "Wall time: 1min 22s\n"
     ]
    }
   ],
   "source": [
    "%%time\n",
    "save_all_the_data(tau=120)"
   ]
  },
  {
   "cell_type": "code",
   "execution_count": null,
   "id": "9e93a8d2-0242-467b-9eb2-5e08f78b3045",
   "metadata": {},
   "outputs": [],
   "source": []
  }
 ],
 "metadata": {
  "kernelspec": {
   "display_name": "Python [conda env:s2s]",
   "language": "python",
   "name": "conda-env-s2s-py"
  },
  "language_info": {
   "codemirror_mode": {
    "name": "ipython",
    "version": 3
   },
   "file_extension": ".py",
   "mimetype": "text/x-python",
   "name": "python",
   "nbconvert_exporter": "python",
   "pygments_lexer": "ipython3",
   "version": "3.11.5"
  }
 },
 "nbformat": 4,
 "nbformat_minor": 5
}
